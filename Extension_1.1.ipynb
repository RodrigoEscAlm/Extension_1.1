{
  "nbformat": 4,
  "nbformat_minor": 0,
  "metadata": {
    "colab": {
      "provenance": [],
      "mount_file_id": "1HqCHII6UMNsMTI4YKFcu2SQIa751J44U",
      "authorship_tag": "ABX9TyOLLMFzRIRqibcauIDX2gOy",
      "include_colab_link": true
    },
    "kernelspec": {
      "name": "python3",
      "display_name": "Python 3"
    },
    "language_info": {
      "name": "python"
    }
  },
  "cells": [
    {
      "cell_type": "markdown",
      "metadata": {
        "id": "view-in-github",
        "colab_type": "text"
      },
      "source": [
        "<a href=\"https://colab.research.google.com/github/RodrigoEscAlm/Extension_1.1/blob/main/Extension_1.1.ipynb\" target=\"_parent\"><img src=\"https://colab.research.google.com/assets/colab-badge.svg\" alt=\"Open In Colab\"/></a>"
      ]
    },
    {
      "cell_type": "code",
      "execution_count": 1,
      "metadata": {
        "id": "Td__6dHCP0ng"
      },
      "outputs": [],
      "source": [
        "\n",
        "import subprocess\n",
        "#Intrduccion de comandos en el cmd (Linux)((¡¡Versionar para windows!!))\n",
        "def ejecutar_comando(comando):\n",
        "    proceso = subprocess.Popen(comando, stdout=subprocess.PIPE, stderr=subprocess.PIPE, shell=True)\n",
        "    salida, error = proceso.communicate()\n",
        "    if error:\n",
        "        print(f\"Se produjo un error al ejecutar el comando {comando}:\")\n",
        "        print(error.decode())\n",
        "    else:\n",
        "        print(f\"El comando {comando} se ejecutó correctamente.\")\n",
        "        print(\"--------------\")\n",
        "        print(salida.decode())\n",
        "\n"
      ]
    },
    {
      "cell_type": "code",
      "source": [
        "import os\n",
        "\n",
        "def crear_estructura():\n",
        "    # Crear la carpeta 'Extension'\n",
        "    os.mkdir('Extension')\n",
        "    \n",
        "    # Crear las subcarpetas 'css', 'icons', 'js' y 'py' dentro de 'Extension'\n",
        "    os.mkdir('Extension/css')\n",
        "    os.mkdir('Extension/icons')\n",
        "    os.mkdir('Extension/js')\n",
        "    os.mkdir('Extension/py')\n",
        "    \n",
        "    print(\"La estructura de carpetas se ha creado correctamente.\")\n",
        "\n",
        "# Llamar a la función para crear la estructura de carpetas\n",
        "crear_estructura()\n"
      ],
      "metadata": {
        "colab": {
          "base_uri": "https://localhost:8080/"
        },
        "id": "DOMYcmYETwf7",
        "outputId": "1d581680-bd0b-468c-a43a-4118f0370d57"
      },
      "execution_count": 2,
      "outputs": [
        {
          "output_type": "stream",
          "name": "stdout",
          "text": [
            "La estructura de carpetas se ha creado correctamente.\n"
          ]
        }
      ]
    },
    {
      "cell_type": "code",
      "source": [
        "import subprocess\n",
        "import os\n",
        "\n",
        "def ejecutar_comando(comando):\n",
        "    proceso = subprocess.Popen(comando, stdout=subprocess.PIPE, stderr=subprocess.PIPE, shell=True)\n",
        "    salida, error = proceso.communicate()\n",
        "    if error:\n",
        "        print(f\"Se produjo un error al ejecutar el comando {comando}:\")\n",
        "        print(error.decode())\n",
        "    else:\n",
        "        print(f\"El comando {comando} se ejecutó correctamente.\")\n",
        "        print(salida.decode())\n",
        "\n",
        "def instalar_brython():\n",
        "  \n",
        "    # Navegar a la carpeta 'Extension/js' y ejecutar el comando de instalación de Brython\n",
        "    os.chdir('Extension/js')\n",
        "    ejecutar_comando(\"python3 -m pip install brython\")\n",
        "    ejecutar_comando(\"python3 -m brython --install\")\n",
        "    \n",
        "    print(\"La instalación de Brython se ha completado correctamente.\")\n",
        "\n",
        "# Llamar a la función para instalar Brython en la carpeta 'Extension/js'\n",
        "instalar_brython()\n",
        "\n"
      ],
      "metadata": {
        "colab": {
          "base_uri": "https://localhost:8080/"
        },
        "id": "u07YgYwwU6Nm",
        "outputId": "728d023d-a188-416f-9a54-e175c36cabf6"
      },
      "execution_count": 6,
      "outputs": [
        {
          "output_type": "stream",
          "name": "stdout",
          "text": [
            "El comando python3 -m pip install brython se ejecutó correctamente.\n",
            "Looking in indexes: https://pypi.org/simple, https://us-python.pkg.dev/colab-wheels/public/simple/\n",
            "Collecting brython\n",
            "  Downloading brython-3.11.1.tar.gz (1.5 MB)\n",
            "     ━━━━━━━━━━━━━━━━━━━━━━━━━━━━━━━━━━━━━━━━ 1.5/1.5 MB 9.6 MB/s eta 0:00:00\n",
            "  Preparing metadata (setup.py): started\n",
            "  Preparing metadata (setup.py): finished with status 'done'\n",
            "Building wheels for collected packages: brython\n",
            "  Building wheel for brython (setup.py): started\n",
            "  Building wheel for brython (setup.py): finished with status 'done'\n",
            "  Created wheel for brython: filename=brython-3.11.1-py3-none-any.whl size=1555778 sha256=0ca1e4d4dc024767ff2a8f2085967a9433196ace566b0389856ea1ac47caed9f\n",
            "  Stored in directory: /root/.cache/pip/wheels/6b/4e/6c/8b4bdaeec3da2036ce7df777fc52b9b03f647ec2f4dfe4be60\n",
            "Successfully built brython\n",
            "Installing collected packages: brython\n",
            "Successfully installed brython-3.11.1\n",
            "\n",
            "El comando python3 -m brython --install se ejecutó correctamente.\n",
            "Option --install will be deprecated in the next release. Please use `brython-cli install` instead (see '--help')\n",
            "Installing Brython 3.11.1\n",
            "done\n",
            "\n",
            "La instalación de Brython se ha completado correctamente.\n"
          ]
        }
      ]
    },
    {
      "cell_type": "code",
      "source": [
        "#Descarga los iconos y los traslada a la carpeta icons.\n",
        "\n",
        "\n",
        "Comando=ejecutar_comando(\"wget https://tecnobillo.com/sections/python-en-navegador/brython/brython-chrome-extensions/icons/128.png\")\n",
        "Comando=ejecutar_comando(\"wget https://tecnobillo.com/sections/python-en-navegador/brython/brython-chrome-extensions/icons/32.png\")\n",
        "\n",
        "Comando=ejecutar_comando(\"mv /content/Extension/js/32.png /content/Extension/icons/\")\n",
        "Comando=ejecutar_comando(\"mv /content/Extension/js/128.png /content/Extension/icons/\")\n",
        "\n",
        "\n"
      ],
      "metadata": {
        "id": "i6B7C21PV2mA"
      },
      "execution_count": null,
      "outputs": []
    },
    {
      "cell_type": "code",
      "source": [
        "Comando=ejecutar_comando(\"sudo apt-get update\")\n",
        "Comando=ejecutar_comando(\"sudo apt-get install -y build-essential libssl-dev libffi-dev python3-dev\")\n",
        "Comando=ejecutar_comando(\"pip install lxml\")\n",
        "Comando=ejecutar_comando(\"pip install browser\")"
      ],
      "metadata": {
        "colab": {
          "base_uri": "https://localhost:8080/"
        },
        "id": "nnxMcY4qoRN8",
        "outputId": "9ab486fa-0447-4348-e280-6a68dd8f2476"
      },
      "execution_count": 33,
      "outputs": [
        {
          "output_type": "stream",
          "name": "stdout",
          "text": [
            "El comando sudo apt-get update se ejecutó correctamente.\n",
            "Hit:1 https://cloud.r-project.org/bin/linux/ubuntu focal-cran40/ InRelease\n",
            "Hit:2 http://security.ubuntu.com/ubuntu focal-security InRelease\n",
            "Hit:3 https://developer.download.nvidia.com/compute/cuda/repos/ubuntu2004/x86_64  InRelease\n",
            "Hit:4 http://archive.ubuntu.com/ubuntu focal InRelease\n",
            "Hit:5 http://ppa.launchpad.net/c2d4u.team/c2d4u4.0+/ubuntu focal InRelease\n",
            "Hit:6 http://archive.ubuntu.com/ubuntu focal-updates InRelease\n",
            "Hit:7 http://archive.ubuntu.com/ubuntu focal-backports InRelease\n",
            "Hit:8 http://ppa.launchpad.net/cran/libgit2/ubuntu focal InRelease\n",
            "Hit:9 http://ppa.launchpad.net/deadsnakes/ppa/ubuntu focal InRelease\n",
            "Hit:10 http://ppa.launchpad.net/graphics-drivers/ppa/ubuntu focal InRelease\n",
            "Hit:11 http://ppa.launchpad.net/ubuntugis/ppa/ubuntu focal InRelease\n",
            "Reading package lists...\n",
            "\n",
            "El comando sudo apt-get install -y build-essential libssl-dev libffi-dev python3-dev se ejecutó correctamente.\n",
            "Reading package lists...\n",
            "Building dependency tree...\n",
            "Reading state information...\n",
            "libffi-dev is already the newest version (3.3-4).\n",
            "python3-dev is already the newest version (3.8.2-0ubuntu2).\n",
            "build-essential is already the newest version (12.8ubuntu1.1).\n",
            "libssl-dev is already the newest version (1.1.1f-1ubuntu2.18).\n",
            "0 upgraded, 0 newly installed, 0 to remove and 27 not upgraded.\n",
            "\n",
            "El comando pip install lxml se ejecutó correctamente.\n",
            "Looking in indexes: https://pypi.org/simple, https://us-python.pkg.dev/colab-wheels/public/simple/\n",
            "Requirement already satisfied: lxml in /usr/local/lib/python3.10/dist-packages (4.9.2)\n",
            "\n",
            "Se produjo un error al ejecutar el comando pip install browser:\n",
            "  error: subprocess-exited-with-error\n",
            "  \n",
            "  × python setup.py bdist_wheel did not run successfully.\n",
            "  │ exit code: 1\n",
            "  ╰─> See above for output.\n",
            "  \n",
            "  note: This error originates from a subprocess, and is likely not a problem with pip.\n",
            "  ERROR: Failed building wheel for lxml\n",
            "ERROR: Could not build wheels for lxml, which is required to install pyproject.toml-based projects\n",
            "\n"
          ]
        }
      ]
    },
    {
      "cell_type": "code",
      "source": [
        "Comando=ejecutar_comando(\"pip uninstall lxml\")\n",
        "Comando=ejecutar_comando(\"pip install --no-cache-dir lxml\")"
      ],
      "metadata": {
        "colab": {
          "base_uri": "https://localhost:8080/"
        },
        "id": "9V-iaclmp5SR",
        "outputId": "7609bdd3-6aac-4a38-8dcf-fd83bdecf483"
      },
      "execution_count": 32,
      "outputs": [
        {
          "output_type": "stream",
          "name": "stdout",
          "text": [
            "Se produjo un error al ejecutar el comando pip uninstall lxml:\n",
            "ERROR: Exception:\n",
            "Traceback (most recent call last):\n",
            "  File \"/usr/local/lib/python3.10/dist-packages/pip/_internal/cli/base_command.py\", line 169, in exc_logging_wrapper\n",
            "    status = run_func(*args)\n",
            "  File \"/usr/local/lib/python3.10/dist-packages/pip/_internal/commands/uninstall.py\", line 105, in run\n",
            "    uninstall_pathset = req.uninstall(\n",
            "  File \"/usr/local/lib/python3.10/dist-packages/pip/_internal/req/req_install.py\", line 680, in uninstall\n",
            "    uninstalled_pathset.remove(auto_confirm, verbose)\n",
            "  File \"/usr/local/lib/python3.10/dist-packages/pip/_internal/req/req_uninstall.py\", line 375, in remove\n",
            "    if auto_confirm or self._allowed_to_proceed(verbose):\n",
            "  File \"/usr/local/lib/python3.10/dist-packages/pip/_internal/req/req_uninstall.py\", line 415, in _allowed_to_proceed\n",
            "    return ask(\"Proceed (Y/n)? \", (\"y\", \"n\", \"\")) != \"n\"\n",
            "  File \"/usr/local/lib/python3.10/dist-packages/pip/_internal/utils/misc.py\", line 192, in ask\n",
            "    response = input(message)\n",
            "EOFError: EOF when reading a line\n",
            "\n",
            "El comando pip install --no-cache-dir lxml se ejecutó correctamente.\n",
            "Looking in indexes: https://pypi.org/simple, https://us-python.pkg.dev/colab-wheels/public/simple/\n",
            "Requirement already satisfied: lxml in /usr/local/lib/python3.10/dist-packages (4.9.2)\n",
            "\n"
          ]
        }
      ]
    },
    {
      "cell_type": "code",
      "source": [
        "from browser import document\n",
        "from interpreter import Interpreter\n",
        "\n",
        "Interpreter(document[\"code\"])"
      ],
      "metadata": {
        "colab": {
          "base_uri": "https://localhost:8080/",
          "height": 356
        },
        "id": "ySnemR9tV2rE",
        "outputId": "93bdc7c4-66b3-4ce1-9da9-ec8f65b853d4"
      },
      "execution_count": 34,
      "outputs": [
        {
          "output_type": "error",
          "ename": "ModuleNotFoundError",
          "evalue": "ignored",
          "traceback": [
            "\u001b[0;31m---------------------------------------------------------------------------\u001b[0m",
            "\u001b[0;31mModuleNotFoundError\u001b[0m                       Traceback (most recent call last)",
            "\u001b[0;32m<ipython-input-34-bcc849e9e19d>\u001b[0m in \u001b[0;36m<cell line: 1>\u001b[0;34m()\u001b[0m\n\u001b[0;32m----> 1\u001b[0;31m \u001b[0;32mfrom\u001b[0m \u001b[0mbrowser\u001b[0m \u001b[0;32mimport\u001b[0m \u001b[0mdocument\u001b[0m\u001b[0;34m\u001b[0m\u001b[0;34m\u001b[0m\u001b[0m\n\u001b[0m\u001b[1;32m      2\u001b[0m \u001b[0;32mfrom\u001b[0m \u001b[0minterpreter\u001b[0m \u001b[0;32mimport\u001b[0m \u001b[0mInterpreter\u001b[0m\u001b[0;34m\u001b[0m\u001b[0;34m\u001b[0m\u001b[0m\n\u001b[1;32m      3\u001b[0m \u001b[0;34m\u001b[0m\u001b[0m\n\u001b[1;32m      4\u001b[0m \u001b[0mInterpreter\u001b[0m\u001b[0;34m(\u001b[0m\u001b[0mdocument\u001b[0m\u001b[0;34m[\u001b[0m\u001b[0;34m\"code\"\u001b[0m\u001b[0;34m]\u001b[0m\u001b[0;34m)\u001b[0m\u001b[0;34m\u001b[0m\u001b[0;34m\u001b[0m\u001b[0m\n",
            "\u001b[0;31mModuleNotFoundError\u001b[0m: No module named 'browser'",
            "",
            "\u001b[0;31m---------------------------------------------------------------------------\u001b[0;32m\nNOTE: If your import is failing due to a missing package, you can\nmanually install dependencies using either !pip or !apt.\n\nTo view examples of installing some common dependencies, click the\n\"Open Examples\" button below.\n\u001b[0;31m---------------------------------------------------------------------------\u001b[0m\n"
          ],
          "errorDetails": {
            "actions": [
              {
                "action": "open_url",
                "actionText": "Open Examples",
                "url": "/notebooks/snippets/importing_libraries.ipynb"
              }
            ]
          }
        }
      ]
    }
  ]
}